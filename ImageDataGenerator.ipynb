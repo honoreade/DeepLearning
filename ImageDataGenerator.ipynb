{
  "nbformat": 4,
  "nbformat_minor": 0,
  "metadata": {
    "colab": {
      "provenance": [],
      "authorship_tag": "ABX9TyMEWQP7WND14BFhgCPiwj3G",
      "include_colab_link": true
    },
    "kernelspec": {
      "name": "python3",
      "display_name": "Python 3"
    },
    "language_info": {
      "name": "python"
    }
  },
  "cells": [
    {
      "cell_type": "markdown",
      "metadata": {
        "id": "view-in-github",
        "colab_type": "text"
      },
      "source": [
        "<a href=\"https://colab.research.google.com/github/honoreade/DeepLearning/blob/main/ImageDataGenerator.ipynb\" target=\"_parent\"><img src=\"https://colab.research.google.com/assets/colab-badge.svg\" alt=\"Open In Colab\"/></a>"
      ]
    },
    {
      "cell_type": "code",
      "source": [
        "from google.colab import drive\n",
        "drive.mount('/content/drive')"
      ],
      "metadata": {
        "colab": {
          "base_uri": "https://localhost:8080/"
        },
        "id": "Pl-okhlXeOps",
        "outputId": "fea157da-ab3a-4bd1-daf7-9d8ee3c60b28"
      },
      "execution_count": null,
      "outputs": [
        {
          "output_type": "stream",
          "name": "stdout",
          "text": [
            "Drive already mounted at /content/drive; to attempt to forcibly remount, call drive.mount(\"/content/drive\", force_remount=True).\n"
          ]
        }
      ]
    },
    {
      "cell_type": "code",
      "execution_count": null,
      "metadata": {
        "colab": {
          "base_uri": "https://localhost:8080/"
        },
        "id": "nB5b7IgweF49",
        "outputId": "b317b461-369c-40a1-ebe4-ec2a1b680893"
      },
      "outputs": [
        {
          "output_type": "stream",
          "name": "stdout",
          "text": [
            "Augmented images saved successfully!\n"
          ]
        }
      ],
      "source": [
        "import tensorflow as tf\n",
        "import os\n",
        "import glob\n",
        "\n",
        "# Paths\n",
        "input_dir = \"/content/drive/MyDrive/Colab Notebooks/Beauty/Moderate\"  # Change to your image folder\n",
        "output_dir = \"/content/drive/MyDrive/Colab Notebooks/Beauty/LessBeauty\"  # Where to save augmented images\n",
        "os.makedirs(output_dir, exist_ok=True)\n",
        "\n",
        "# Augmentation functions\n",
        "def augment_image(image):\n",
        "    \"\"\"Apply a set of random augmentations to an image.\"\"\"\n",
        "    image = tf.image.random_flip_left_right(image)\n",
        "    image = tf.image.random_flip_up_down(image)\n",
        "    image = tf.image.random_brightness(image, max_delta=0.2)\n",
        "    image = tf.image.random_contrast(image, lower=0.8, upper=1.2)\n",
        "    image = tf.image.random_saturation(image, lower=0.8, upper=1.2)\n",
        "\n",
        "    # Random rotation (0, 90, 180, 270 degrees)\n",
        "    image = tf.image.rot90(image, k=tf.random.uniform(shape=[], minval=0, maxval=4, dtype=tf.int32))\n",
        "\n",
        "    return image\n",
        "\n",
        "# Load and process images\n",
        "image_paths = glob.glob(os.path.join(input_dir, \"*.*\"))  # Handles JPG and PNG\n",
        "\n",
        "for img_path in image_paths:\n",
        "    # Load image\n",
        "    image = tf.io.read_file(img_path)\n",
        "\n",
        "    # Decode based on file type\n",
        "    if img_path.lower().endswith('.jpg') or img_path.lower().endswith('.jpeg'):\n",
        "        image = tf.image.decode_jpeg(image, channels=3)\n",
        "    elif img_path.lower().endswith('.png'):\n",
        "        image = tf.image.decode_png(image, channels=3)\n",
        "    else:\n",
        "        continue  # Skip unsupported formats\n",
        "\n",
        "    # Resize and normalize image\n",
        "    image = tf.image.resize(image, [224, 224])\n",
        "    image = tf.cast(image, tf.float32) / 255.0  # Normalize\n",
        "\n",
        "    base_name = os.path.basename(img_path).split('.')[0]\n",
        "\n",
        "    # Generate 4 augmentations per image\n",
        "    for i in range(4):\n",
        "        aug_image = augment_image(image)\n",
        "        aug_image = tf.clip_by_value(aug_image, 0.0, 1.0)  # Ensure values are valid\n",
        "        aug_image = tf.image.convert_image_dtype(aug_image, dtype=tf.uint8)  # Convert back to uint8\n",
        "\n",
        "        # Encode and save\n",
        "        encoded_image = tf.io.encode_jpeg(aug_image)\n",
        "        new_filename = os.path.join(output_dir, f\"{base_name}_aug_{i}.jpg\")\n",
        "        tf.io.write_file(new_filename, encoded_image)\n",
        "\n",
        "print(\"Augmented images saved successfully!\")"
      ]
    },
    {
      "cell_type": "code",
      "source": [],
      "metadata": {
        "id": "OLwyKNtnewvE"
      },
      "execution_count": null,
      "outputs": []
    }
  ]
}