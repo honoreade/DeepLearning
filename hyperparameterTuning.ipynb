{
  "cells": [
    {
      "cell_type": "markdown",
      "metadata": {
        "id": "view-in-github",
        "colab_type": "text"
      },
      "source": [
        "<a href=\"https://colab.research.google.com/github/honoreade/DeepLearning/blob/main/hyperparameterTuning.ipynb\" target=\"_parent\"><img src=\"https://colab.research.google.com/assets/colab-badge.svg\" alt=\"Open In Colab\"/></a>"
      ]
    },
    {
      "cell_type": "code",
      "execution_count": null,
      "id": "alyWO4Apymt9",
      "metadata": {
        "colab": {
          "base_uri": "https://localhost:8080/"
        },
        "id": "alyWO4Apymt9",
        "outputId": "12afa5f0-01f4-4422-b8ed-962fda16ac3b"
      },
      "outputs": [
        {
          "name": "stdout",
          "output_type": "stream",
          "text": [
            "Drive already mounted at /content/drive; to attempt to forcibly remount, call drive.mount(\"/content/drive\", force_remount=True).\n"
          ]
        }
      ],
      "source": [
        "from google.colab import drive\n",
        "drive.mount('/content/drive')"
      ]
    },
    {
      "cell_type": "markdown",
      "id": "uwqoV-Tppa82",
      "metadata": {
        "id": "uwqoV-Tppa82"
      },
      "source": [
        "# fruitClassifier Project"
      ]
    },
    {
      "cell_type": "code",
      "execution_count": null,
      "id": "c36f14ed-e3f6-4eb3-aee9-67c6920c8f92",
      "metadata": {
        "colab": {
          "base_uri": "https://localhost:8080/"
        },
        "id": "c36f14ed-e3f6-4eb3-aee9-67c6920c8f92",
        "outputId": "048ce70b-4349-4074-eccf-2318e521fefd"
      },
      "outputs": [
        {
          "name": "stdout",
          "output_type": "stream",
          "text": [
            "Requirement already satisfied: scikeras in /usr/local/lib/python3.10/dist-packages (0.13.0)\n",
            "Requirement already satisfied: keras>=3.2.0 in /usr/local/lib/python3.10/dist-packages (from scikeras) (3.4.1)\n",
            "Requirement already satisfied: scikit-learn>=1.4.2 in /usr/local/lib/python3.10/dist-packages (from scikeras) (1.5.2)\n",
            "Requirement already satisfied: absl-py in /usr/local/lib/python3.10/dist-packages (from keras>=3.2.0->scikeras) (1.4.0)\n",
            "Requirement already satisfied: numpy in /usr/local/lib/python3.10/dist-packages (from keras>=3.2.0->scikeras) (1.26.4)\n",
            "Requirement already satisfied: rich in /usr/local/lib/python3.10/dist-packages (from keras>=3.2.0->scikeras) (13.9.2)\n",
            "Requirement already satisfied: namex in /usr/local/lib/python3.10/dist-packages (from keras>=3.2.0->scikeras) (0.0.8)\n",
            "Requirement already satisfied: h5py in /usr/local/lib/python3.10/dist-packages (from keras>=3.2.0->scikeras) (3.11.0)\n",
            "Requirement already satisfied: optree in /usr/local/lib/python3.10/dist-packages (from keras>=3.2.0->scikeras) (0.13.0)\n",
            "Requirement already satisfied: ml-dtypes in /usr/local/lib/python3.10/dist-packages (from keras>=3.2.0->scikeras) (0.4.1)\n",
            "Requirement already satisfied: packaging in /usr/local/lib/python3.10/dist-packages (from keras>=3.2.0->scikeras) (24.1)\n",
            "Requirement already satisfied: scipy>=1.6.0 in /usr/local/lib/python3.10/dist-packages (from scikit-learn>=1.4.2->scikeras) (1.13.1)\n",
            "Requirement already satisfied: joblib>=1.2.0 in /usr/local/lib/python3.10/dist-packages (from scikit-learn>=1.4.2->scikeras) (1.4.2)\n",
            "Requirement already satisfied: threadpoolctl>=3.1.0 in /usr/local/lib/python3.10/dist-packages (from scikit-learn>=1.4.2->scikeras) (3.5.0)\n",
            "Requirement already satisfied: typing-extensions>=4.5.0 in /usr/local/lib/python3.10/dist-packages (from optree->keras>=3.2.0->scikeras) (4.12.2)\n",
            "Requirement already satisfied: markdown-it-py>=2.2.0 in /usr/local/lib/python3.10/dist-packages (from rich->keras>=3.2.0->scikeras) (3.0.0)\n",
            "Requirement already satisfied: pygments<3.0.0,>=2.13.0 in /usr/local/lib/python3.10/dist-packages (from rich->keras>=3.2.0->scikeras) (2.18.0)\n",
            "Requirement already satisfied: mdurl~=0.1 in /usr/local/lib/python3.10/dist-packages (from markdown-it-py>=2.2.0->rich->keras>=3.2.0->scikeras) (0.1.2)\n",
            "Requirement already satisfied: keras in /usr/local/lib/python3.10/dist-packages (3.4.1)\n",
            "Requirement already satisfied: keras-tuner in /usr/local/lib/python3.10/dist-packages (1.4.7)\n",
            "Requirement already satisfied: absl-py in /usr/local/lib/python3.10/dist-packages (from keras) (1.4.0)\n",
            "Requirement already satisfied: numpy in /usr/local/lib/python3.10/dist-packages (from keras) (1.26.4)\n",
            "Requirement already satisfied: rich in /usr/local/lib/python3.10/dist-packages (from keras) (13.9.2)\n",
            "Requirement already satisfied: namex in /usr/local/lib/python3.10/dist-packages (from keras) (0.0.8)\n",
            "Requirement already satisfied: h5py in /usr/local/lib/python3.10/dist-packages (from keras) (3.11.0)\n",
            "Requirement already satisfied: optree in /usr/local/lib/python3.10/dist-packages (from keras) (0.13.0)\n",
            "Requirement already satisfied: ml-dtypes in /usr/local/lib/python3.10/dist-packages (from keras) (0.4.1)\n",
            "Requirement already satisfied: packaging in /usr/local/lib/python3.10/dist-packages (from keras) (24.1)\n",
            "Requirement already satisfied: requests in /usr/local/lib/python3.10/dist-packages (from keras-tuner) (2.32.3)\n",
            "Requirement already satisfied: kt-legacy in /usr/local/lib/python3.10/dist-packages (from keras-tuner) (1.0.5)\n",
            "Requirement already satisfied: typing-extensions>=4.5.0 in /usr/local/lib/python3.10/dist-packages (from optree->keras) (4.12.2)\n",
            "Requirement already satisfied: charset-normalizer<4,>=2 in /usr/local/lib/python3.10/dist-packages (from requests->keras-tuner) (3.4.0)\n",
            "Requirement already satisfied: idna<4,>=2.5 in /usr/local/lib/python3.10/dist-packages (from requests->keras-tuner) (3.10)\n",
            "Requirement already satisfied: urllib3<3,>=1.21.1 in /usr/local/lib/python3.10/dist-packages (from requests->keras-tuner) (2.2.3)\n",
            "Requirement already satisfied: certifi>=2017.4.17 in /usr/local/lib/python3.10/dist-packages (from requests->keras-tuner) (2024.8.30)\n",
            "Requirement already satisfied: markdown-it-py>=2.2.0 in /usr/local/lib/python3.10/dist-packages (from rich->keras) (3.0.0)\n",
            "Requirement already satisfied: pygments<3.0.0,>=2.13.0 in /usr/local/lib/python3.10/dist-packages (from rich->keras) (2.18.0)\n",
            "Requirement already satisfied: mdurl~=0.1 in /usr/local/lib/python3.10/dist-packages (from markdown-it-py>=2.2.0->rich->keras) (0.1.2)\n"
          ]
        }
      ],
      "source": [
        "!pip install scikeras\n",
        "!pip install keras keras-tuner\n",
        "# Dependency libraries\n",
        "import os\n",
        "import numpy as np\n",
        "import pandas as pd\n",
        "import matplotlib.pyplot as plt\n",
        "import tensorflow as tf\n",
        "from tensorflow.keras import layers\n",
        "from keras.preprocessing.image import load_img, img_to_array"
      ]
    },
    {
      "cell_type": "code",
      "execution_count": null,
      "id": "qDI6q7Xezv0k",
      "metadata": {
        "id": "qDI6q7Xezv0k"
      },
      "outputs": [],
      "source": [
        "def load_data(data_path):\n",
        "\n",
        "    # Define image dimensions (adjust as needed)\n",
        "    img_width, img_height = 224, 224\n",
        "\n",
        "    # Get the number of classes (assuming subfolders represent classes)\n",
        "    class_names = os.listdir(data_path)\n",
        "    num_classes = len(class_names)\n",
        "\n",
        "    # Initialize empty lists for images and labels\n",
        "    images = []\n",
        "    labels = []\n",
        "\n",
        "    # Loop through each class subfolder\n",
        "    for class_index, class_name in enumerate(class_names):\n",
        "        class_path = os.path.join(data_path, class_name)\n",
        "        # print(class_path)\n",
        "\n",
        "        # Loop through images in the class subfolder\n",
        "        for img_name in os.listdir(class_path):\n",
        "            img_path = os.path.join(class_path, img_name)\n",
        "            # print(img_path)\n",
        "\n",
        "            # Load the image using TensorFlow's image module\n",
        "            img = load_img(img_path, target_size=(img_width, img_height))\n",
        "\n",
        "            # Convert the image to a NumPy array (optional)\n",
        "            img_array = img_to_array(img)\n",
        "\n",
        "            # Preprocess the image (e.g., normalize)\n",
        "            # ... your preprocessing steps ...\n",
        "\n",
        "            # Append the image and its class label\n",
        "            images.append(img_array)\n",
        "            labels.append(class_index)\n",
        "\n",
        "    # Convert data to NumPy arrays\n",
        "    images = np.array(images)\n",
        "    labels = np.array(labels)\n",
        "\n",
        "    # One-hot encode labels if needed for categorical classification\n",
        "    if num_classes > 2:\n",
        "        labels =  tf.keras.utils.to_categorical(labels, num_classes=num_classes)\n",
        "\n",
        "    return images, labels\n",
        "\n",
        "    # Example usage (same as before)"
      ]
    },
    {
      "cell_type": "code",
      "execution_count": null,
      "id": "ed4da4f0",
      "metadata": {
        "id": "ed4da4f0"
      },
      "outputs": [],
      "source": [
        "train_data_path = r\"/content/drive/MyDrive/Colab Notebooks/FruitClassifier/FruitClassifier/train\"\n",
        "val_data_path = r\"/content/drive/MyDrive/Colab Notebooks/FruitClassifier/FruitClassifier/val\"\n",
        "test_data_path = r\"/content/drive/MyDrive/Colab Notebooks/FruitClassifier/FruitClassifier/test\"\n"
      ]
    },
    {
      "cell_type": "code",
      "execution_count": null,
      "id": "6288f624-cce8-46be-bb64-fad1caf02dfe",
      "metadata": {
        "id": "6288f624-cce8-46be-bb64-fad1caf02dfe"
      },
      "outputs": [],
      "source": [
        "train_images, train_labels = load_data(train_data_path)\n",
        "val_images, val_labels = load_data(val_data_path)\n",
        "test_images, test_labels = load_data(test_data_path)"
      ]
    },
    {
      "cell_type": "markdown",
      "id": "b9fb5338",
      "metadata": {
        "id": "b9fb5338"
      },
      "source": [
        "**Model Building**"
      ]
    },
    {
      "cell_type": "code",
      "execution_count": null,
      "id": "ea3445fb",
      "metadata": {
        "colab": {
          "base_uri": "https://localhost:8080/"
        },
        "id": "ea3445fb",
        "outputId": "3100242b-864f-4f9f-9896-58a229049013"
      },
      "outputs": [
        {
          "name": "stderr",
          "output_type": "stream",
          "text": [
            "/usr/local/lib/python3.10/dist-packages/keras/src/layers/convolutional/base_conv.py:107: UserWarning: Do not pass an `input_shape`/`input_dim` argument to a layer. When using Sequential models, prefer using an `Input(shape)` object as the first layer in the model instead.\n",
            "  super().__init__(activity_regularizer=activity_regularizer, **kwargs)\n"
          ]
        }
      ],
      "source": [
        "model = tf.keras.models.Sequential()\n",
        "# Add layers\n",
        "model.add(layers.Conv2D(filters=16, kernel_size=(3,3), padding='same', activation='relu', input_shape=(224, 224, 3)))\n",
        "model.add(layers.MaxPooling2D((2, 2)))\n",
        "\n",
        "model.add(layers.Conv2D(filters=16, kernel_size=(3,3), padding='same', activation='relu'))\n",
        "model.add(layers.MaxPooling2D((2, 2)))\n",
        "\n",
        "model.add(layers.Conv2D(filters=16, kernel_size=(3,3), padding='same', activation='relu'))\n",
        "model.add(layers.MaxPooling2D((2, 2)))\n",
        "\n",
        "model.add(layers.Flatten())\n",
        "\n",
        "model.add(layers.Dense(units=32, activation='relu'))\n",
        "model.add(layers.Dense(7, activation='softmax'))\n",
        "\n",
        "# Compile the model\n",
        "model.compile(optimizer='adam', loss='categorical_crossentropy', metrics=['accuracy'])"
      ]
    },
    {
      "cell_type": "code",
      "execution_count": null,
      "id": "GlBrhtp2qmRD",
      "metadata": {
        "colab": {
          "base_uri": "https://localhost:8080/",
          "height": 417
        },
        "id": "GlBrhtp2qmRD",
        "outputId": "d814fad2-385b-4ed0-9903-cefc63ed6bf0"
      },
      "outputs": [
        {
          "data": {
            "text/html": [
              "<pre style=\"white-space:pre;overflow-x:auto;line-height:normal;font-family:Menlo,'DejaVu Sans Mono',consolas,'Courier New',monospace\"><span style=\"font-weight: bold\">Model: \"sequential\"</span>\n",
              "</pre>\n"
            ],
            "text/plain": [
              "\u001b[1mModel: \"sequential\"\u001b[0m\n"
            ]
          },
          "metadata": {},
          "output_type": "display_data"
        },
        {
          "data": {
            "text/html": [
              "<pre style=\"white-space:pre;overflow-x:auto;line-height:normal;font-family:Menlo,'DejaVu Sans Mono',consolas,'Courier New',monospace\">┏━━━━━━━━━━━━━━━━━━━━━━━━━━━━━━━━━━━━━━┳━━━━━━━━━━━━━━━━━━━━━━━━━━━━━┳━━━━━━━━━━━━━━━━━┓\n",
              "┃<span style=\"font-weight: bold\"> Layer (type)                         </span>┃<span style=\"font-weight: bold\"> Output Shape                </span>┃<span style=\"font-weight: bold\">         Param # </span>┃\n",
              "┡━━━━━━━━━━━━━━━━━━━━━━━━━━━━━━━━━━━━━━╇━━━━━━━━━━━━━━━━━━━━━━━━━━━━━╇━━━━━━━━━━━━━━━━━┩\n",
              "│ conv2d (<span style=\"color: #0087ff; text-decoration-color: #0087ff\">Conv2D</span>)                      │ (<span style=\"color: #00d7ff; text-decoration-color: #00d7ff\">None</span>, <span style=\"color: #00af00; text-decoration-color: #00af00\">224</span>, <span style=\"color: #00af00; text-decoration-color: #00af00\">224</span>, <span style=\"color: #00af00; text-decoration-color: #00af00\">16</span>)        │             <span style=\"color: #00af00; text-decoration-color: #00af00\">448</span> │\n",
              "├──────────────────────────────────────┼─────────────────────────────┼─────────────────┤\n",
              "│ max_pooling2d (<span style=\"color: #0087ff; text-decoration-color: #0087ff\">MaxPooling2D</span>)         │ (<span style=\"color: #00d7ff; text-decoration-color: #00d7ff\">None</span>, <span style=\"color: #00af00; text-decoration-color: #00af00\">112</span>, <span style=\"color: #00af00; text-decoration-color: #00af00\">112</span>, <span style=\"color: #00af00; text-decoration-color: #00af00\">16</span>)        │               <span style=\"color: #00af00; text-decoration-color: #00af00\">0</span> │\n",
              "├──────────────────────────────────────┼─────────────────────────────┼─────────────────┤\n",
              "│ conv2d_1 (<span style=\"color: #0087ff; text-decoration-color: #0087ff\">Conv2D</span>)                    │ (<span style=\"color: #00d7ff; text-decoration-color: #00d7ff\">None</span>, <span style=\"color: #00af00; text-decoration-color: #00af00\">112</span>, <span style=\"color: #00af00; text-decoration-color: #00af00\">112</span>, <span style=\"color: #00af00; text-decoration-color: #00af00\">16</span>)        │           <span style=\"color: #00af00; text-decoration-color: #00af00\">2,320</span> │\n",
              "├──────────────────────────────────────┼─────────────────────────────┼─────────────────┤\n",
              "│ max_pooling2d_1 (<span style=\"color: #0087ff; text-decoration-color: #0087ff\">MaxPooling2D</span>)       │ (<span style=\"color: #00d7ff; text-decoration-color: #00d7ff\">None</span>, <span style=\"color: #00af00; text-decoration-color: #00af00\">56</span>, <span style=\"color: #00af00; text-decoration-color: #00af00\">56</span>, <span style=\"color: #00af00; text-decoration-color: #00af00\">16</span>)          │               <span style=\"color: #00af00; text-decoration-color: #00af00\">0</span> │\n",
              "├──────────────────────────────────────┼─────────────────────────────┼─────────────────┤\n",
              "│ conv2d_2 (<span style=\"color: #0087ff; text-decoration-color: #0087ff\">Conv2D</span>)                    │ (<span style=\"color: #00d7ff; text-decoration-color: #00d7ff\">None</span>, <span style=\"color: #00af00; text-decoration-color: #00af00\">56</span>, <span style=\"color: #00af00; text-decoration-color: #00af00\">56</span>, <span style=\"color: #00af00; text-decoration-color: #00af00\">16</span>)          │           <span style=\"color: #00af00; text-decoration-color: #00af00\">2,320</span> │\n",
              "├──────────────────────────────────────┼─────────────────────────────┼─────────────────┤\n",
              "│ max_pooling2d_2 (<span style=\"color: #0087ff; text-decoration-color: #0087ff\">MaxPooling2D</span>)       │ (<span style=\"color: #00d7ff; text-decoration-color: #00d7ff\">None</span>, <span style=\"color: #00af00; text-decoration-color: #00af00\">28</span>, <span style=\"color: #00af00; text-decoration-color: #00af00\">28</span>, <span style=\"color: #00af00; text-decoration-color: #00af00\">16</span>)          │               <span style=\"color: #00af00; text-decoration-color: #00af00\">0</span> │\n",
              "├──────────────────────────────────────┼─────────────────────────────┼─────────────────┤\n",
              "│ flatten (<span style=\"color: #0087ff; text-decoration-color: #0087ff\">Flatten</span>)                    │ (<span style=\"color: #00d7ff; text-decoration-color: #00d7ff\">None</span>, <span style=\"color: #00af00; text-decoration-color: #00af00\">12544</span>)               │               <span style=\"color: #00af00; text-decoration-color: #00af00\">0</span> │\n",
              "├──────────────────────────────────────┼─────────────────────────────┼─────────────────┤\n",
              "│ dense (<span style=\"color: #0087ff; text-decoration-color: #0087ff\">Dense</span>)                        │ (<span style=\"color: #00d7ff; text-decoration-color: #00d7ff\">None</span>, <span style=\"color: #00af00; text-decoration-color: #00af00\">32</span>)                  │         <span style=\"color: #00af00; text-decoration-color: #00af00\">401,440</span> │\n",
              "├──────────────────────────────────────┼─────────────────────────────┼─────────────────┤\n",
              "│ dense_1 (<span style=\"color: #0087ff; text-decoration-color: #0087ff\">Dense</span>)                      │ (<span style=\"color: #00d7ff; text-decoration-color: #00d7ff\">None</span>, <span style=\"color: #00af00; text-decoration-color: #00af00\">7</span>)                   │             <span style=\"color: #00af00; text-decoration-color: #00af00\">231</span> │\n",
              "└──────────────────────────────────────┴─────────────────────────────┴─────────────────┘\n",
              "</pre>\n"
            ],
            "text/plain": [
              "┏━━━━━━━━━━━━━━━━━━━━━━━━━━━━━━━━━━━━━━┳━━━━━━━━━━━━━━━━━━━━━━━━━━━━━┳━━━━━━━━━━━━━━━━━┓\n",
              "┃\u001b[1m \u001b[0m\u001b[1mLayer (type)                        \u001b[0m\u001b[1m \u001b[0m┃\u001b[1m \u001b[0m\u001b[1mOutput Shape               \u001b[0m\u001b[1m \u001b[0m┃\u001b[1m \u001b[0m\u001b[1m        Param #\u001b[0m\u001b[1m \u001b[0m┃\n",
              "┡━━━━━━━━━━━━━━━━━━━━━━━━━━━━━━━━━━━━━━╇━━━━━━━━━━━━━━━━━━━━━━━━━━━━━╇━━━━━━━━━━━━━━━━━┩\n",
              "│ conv2d (\u001b[38;5;33mConv2D\u001b[0m)                      │ (\u001b[38;5;45mNone\u001b[0m, \u001b[38;5;34m224\u001b[0m, \u001b[38;5;34m224\u001b[0m, \u001b[38;5;34m16\u001b[0m)        │             \u001b[38;5;34m448\u001b[0m │\n",
              "├──────────────────────────────────────┼─────────────────────────────┼─────────────────┤\n",
              "│ max_pooling2d (\u001b[38;5;33mMaxPooling2D\u001b[0m)         │ (\u001b[38;5;45mNone\u001b[0m, \u001b[38;5;34m112\u001b[0m, \u001b[38;5;34m112\u001b[0m, \u001b[38;5;34m16\u001b[0m)        │               \u001b[38;5;34m0\u001b[0m │\n",
              "├──────────────────────────────────────┼─────────────────────────────┼─────────────────┤\n",
              "│ conv2d_1 (\u001b[38;5;33mConv2D\u001b[0m)                    │ (\u001b[38;5;45mNone\u001b[0m, \u001b[38;5;34m112\u001b[0m, \u001b[38;5;34m112\u001b[0m, \u001b[38;5;34m16\u001b[0m)        │           \u001b[38;5;34m2,320\u001b[0m │\n",
              "├──────────────────────────────────────┼─────────────────────────────┼─────────────────┤\n",
              "│ max_pooling2d_1 (\u001b[38;5;33mMaxPooling2D\u001b[0m)       │ (\u001b[38;5;45mNone\u001b[0m, \u001b[38;5;34m56\u001b[0m, \u001b[38;5;34m56\u001b[0m, \u001b[38;5;34m16\u001b[0m)          │               \u001b[38;5;34m0\u001b[0m │\n",
              "├──────────────────────────────────────┼─────────────────────────────┼─────────────────┤\n",
              "│ conv2d_2 (\u001b[38;5;33mConv2D\u001b[0m)                    │ (\u001b[38;5;45mNone\u001b[0m, \u001b[38;5;34m56\u001b[0m, \u001b[38;5;34m56\u001b[0m, \u001b[38;5;34m16\u001b[0m)          │           \u001b[38;5;34m2,320\u001b[0m │\n",
              "├──────────────────────────────────────┼─────────────────────────────┼─────────────────┤\n",
              "│ max_pooling2d_2 (\u001b[38;5;33mMaxPooling2D\u001b[0m)       │ (\u001b[38;5;45mNone\u001b[0m, \u001b[38;5;34m28\u001b[0m, \u001b[38;5;34m28\u001b[0m, \u001b[38;5;34m16\u001b[0m)          │               \u001b[38;5;34m0\u001b[0m │\n",
              "├──────────────────────────────────────┼─────────────────────────────┼─────────────────┤\n",
              "│ flatten (\u001b[38;5;33mFlatten\u001b[0m)                    │ (\u001b[38;5;45mNone\u001b[0m, \u001b[38;5;34m12544\u001b[0m)               │               \u001b[38;5;34m0\u001b[0m │\n",
              "├──────────────────────────────────────┼─────────────────────────────┼─────────────────┤\n",
              "│ dense (\u001b[38;5;33mDense\u001b[0m)                        │ (\u001b[38;5;45mNone\u001b[0m, \u001b[38;5;34m32\u001b[0m)                  │         \u001b[38;5;34m401,440\u001b[0m │\n",
              "├──────────────────────────────────────┼─────────────────────────────┼─────────────────┤\n",
              "│ dense_1 (\u001b[38;5;33mDense\u001b[0m)                      │ (\u001b[38;5;45mNone\u001b[0m, \u001b[38;5;34m7\u001b[0m)                   │             \u001b[38;5;34m231\u001b[0m │\n",
              "└──────────────────────────────────────┴─────────────────────────────┴─────────────────┘\n"
            ]
          },
          "metadata": {},
          "output_type": "display_data"
        },
        {
          "data": {
            "text/html": [
              "<pre style=\"white-space:pre;overflow-x:auto;line-height:normal;font-family:Menlo,'DejaVu Sans Mono',consolas,'Courier New',monospace\"><span style=\"font-weight: bold\"> Total params: </span><span style=\"color: #00af00; text-decoration-color: #00af00\">406,759</span> (1.55 MB)\n",
              "</pre>\n"
            ],
            "text/plain": [
              "\u001b[1m Total params: \u001b[0m\u001b[38;5;34m406,759\u001b[0m (1.55 MB)\n"
            ]
          },
          "metadata": {},
          "output_type": "display_data"
        },
        {
          "data": {
            "text/html": [
              "<pre style=\"white-space:pre;overflow-x:auto;line-height:normal;font-family:Menlo,'DejaVu Sans Mono',consolas,'Courier New',monospace\"><span style=\"font-weight: bold\"> Trainable params: </span><span style=\"color: #00af00; text-decoration-color: #00af00\">406,759</span> (1.55 MB)\n",
              "</pre>\n"
            ],
            "text/plain": [
              "\u001b[1m Trainable params: \u001b[0m\u001b[38;5;34m406,759\u001b[0m (1.55 MB)\n"
            ]
          },
          "metadata": {},
          "output_type": "display_data"
        },
        {
          "data": {
            "text/html": [
              "<pre style=\"white-space:pre;overflow-x:auto;line-height:normal;font-family:Menlo,'DejaVu Sans Mono',consolas,'Courier New',monospace\"><span style=\"font-weight: bold\"> Non-trainable params: </span><span style=\"color: #00af00; text-decoration-color: #00af00\">0</span> (0.00 B)\n",
              "</pre>\n"
            ],
            "text/plain": [
              "\u001b[1m Non-trainable params: \u001b[0m\u001b[38;5;34m0\u001b[0m (0.00 B)\n"
            ]
          },
          "metadata": {},
          "output_type": "display_data"
        }
      ],
      "source": [
        "# Print model summary for debugging\n",
        "model.summary()"
      ]
    },
    {
      "cell_type": "code",
      "execution_count": null,
      "id": "8FrgpqSaVICa",
      "metadata": {
        "colab": {
          "base_uri": "https://localhost:8080/"
        },
        "id": "8FrgpqSaVICa",
        "outputId": "99256e64-6b5d-4b87-ac43-22604e3fb463"
      },
      "outputs": [
        {
          "name": "stdout",
          "output_type": "stream",
          "text": [
            "Epoch 1/5\n",
            "\u001b[1m78/78\u001b[0m \u001b[32m━━━━━━━━━━━━━━━━━━━━\u001b[0m\u001b[37m\u001b[0m \u001b[1m19s\u001b[0m 98ms/step - accuracy: 0.1741 - loss: 109.3573 - val_accuracy: 0.0653 - val_loss: 2.1053\n",
            "Epoch 2/5\n",
            "\u001b[1m78/78\u001b[0m \u001b[32m━━━━━━━━━━━━━━━━━━━━\u001b[0m\u001b[37m\u001b[0m \u001b[1m2s\u001b[0m 27ms/step - accuracy: 0.2839 - loss: 1.7745 - val_accuracy: 0.0528 - val_loss: 2.1766\n",
            "Epoch 3/5\n",
            "\u001b[1m78/78\u001b[0m \u001b[32m━━━━━━━━━━━━━━━━━━━━\u001b[0m\u001b[37m\u001b[0m \u001b[1m2s\u001b[0m 31ms/step - accuracy: 0.3252 - loss: 1.6737 - val_accuracy: 0.0319 - val_loss: 2.1768\n",
            "Epoch 4/5\n",
            "\u001b[1m78/78\u001b[0m \u001b[32m━━━━━━━━━━━━━━━━━━━━\u001b[0m\u001b[37m\u001b[0m \u001b[1m2s\u001b[0m 31ms/step - accuracy: 0.3136 - loss: 1.6418 - val_accuracy: 0.0889 - val_loss: 2.6262\n",
            "Epoch 5/5\n",
            "\u001b[1m78/78\u001b[0m \u001b[32m━━━━━━━━━━━━━━━━━━━━\u001b[0m\u001b[37m\u001b[0m \u001b[1m3s\u001b[0m 36ms/step - accuracy: 0.4158 - loss: 1.4172 - val_accuracy: 0.0875 - val_loss: 3.0801\n"
          ]
        },
        {
          "data": {
            "text/plain": [
              "<keras.src.callbacks.history.History at 0x7a2c76beb490>"
            ]
          },
          "execution_count": 9,
          "metadata": {},
          "output_type": "execute_result"
        }
      ],
      "source": [
        "# Define validation data (assuming validation_images and validation_labels exist)\n",
        "validation_data = (val_images, val_labels)\n",
        "model.fit(train_images, train_labels, epochs=5, batch_size=32, validation_data=validation_data)"
      ]
    },
    {
      "cell_type": "code",
      "execution_count": null,
      "id": "-o26fIB6VH2x",
      "metadata": {
        "id": "-o26fIB6VH2x"
      },
      "outputs": [],
      "source": [
        "# accuracy: 0.1519 - loss: 1.9456 - val_accuracy: 0.1389: single layer\n",
        "# accuracy: 0.4507 - loss: 1.4275 - val_accuracy: 0.1014: double layer\n",
        "# accuracy: 0.1535 - loss: 1.9457 - val_accuracy: 0.1389: triple layer\n"
      ]
    },
    {
      "cell_type": "markdown",
      "id": "eoDgrpLb2ulL",
      "metadata": {
        "id": "eoDgrpLb2ulL"
      },
      "source": [
        "# Hyperparameter tuning"
      ]
    },
    {
      "cell_type": "code",
      "execution_count": null,
      "id": "9T6HXeTOtp18",
      "metadata": {
        "id": "9T6HXeTOtp18"
      },
      "outputs": [],
      "source": [
        "from keras_tuner import RandomSearch\n",
        "\n",
        "# Function to build the model with hyperparameters\n",
        "def model_builder(hp):\n",
        "    models = tf.keras.models.Sequential()\n",
        "    models.add(layers.Input(shape=(224, 224, 3)))\n",
        "\n",
        "    # Tune the number of filters\n",
        "    for i in range(hp.Int('num_layers', 1, 5)):  # Number of convolutional layers\n",
        "      filters = hp.Choice('filters' + str(i), values=[32, 64, 128])\n",
        "      kernel_size = hp.Choice('kernel_size', values=[3, 5])\n",
        "      models.add(layers.Conv2D(filters, kernel_size, padding='same', activation='relu'))\n",
        "      models.add(layers.MaxPooling2D(pool_size=(2, 2)))\n",
        "\n",
        "    models.add(layers.Flatten())\n",
        "    models.add(layers.Dense(hp.Int('units', 32, 512, step=32), activation='relu'))\n",
        "    models.add(layers.Dense(7, activation='softmax'))\n",
        "\n",
        "    models.compile(optimizer=tf.keras.optimizers.Adam(learning_rate=hp.Choice('learning_rate', [0.001, 0.0001])),\n",
        "                  loss='categorical_crossentropy',\n",
        "                  metrics=['accuracy'])\n",
        "    return models\n",
        "\n",
        "# Instantiate the tuner\n",
        "tuner = RandomSearch(\n",
        "    model_builder,\n",
        "    objective='val_accuracy',\n",
        "    max_trials=5,  # Number of different hyperparameter combinations to try\n",
        "    executions_per_trial=3,\n",
        "    directory='random_search',\n",
        "    project_name='image_classification'\n",
        ")\n"
      ]
    },
    {
      "cell_type": "code",
      "execution_count": null,
      "id": "WYMqoTRXUHc6",
      "metadata": {
        "colab": {
          "base_uri": "https://localhost:8080/"
        },
        "id": "WYMqoTRXUHc6",
        "outputId": "efa0c27e-1e01-4f7f-e1ea-5e755e7f55b2"
      },
      "outputs": [
        {
          "name": "stdout",
          "output_type": "stream",
          "text": [
            "Search space summary\n",
            "Default search space size: 5\n",
            "num_layers (Int)\n",
            "{'default': None, 'conditions': [], 'min_value': 1, 'max_value': 5, 'step': 1, 'sampling': 'linear'}\n",
            "filters0 (Choice)\n",
            "{'default': 32, 'conditions': [], 'values': [32, 64, 128], 'ordered': True}\n",
            "kernel_size (Choice)\n",
            "{'default': 3, 'conditions': [], 'values': [3, 5], 'ordered': True}\n",
            "units (Int)\n",
            "{'default': None, 'conditions': [], 'min_value': 32, 'max_value': 512, 'step': 32, 'sampling': 'linear'}\n",
            "learning_rate (Choice)\n",
            "{'default': 0.001, 'conditions': [], 'values': [0.001, 0.0001], 'ordered': True}\n"
          ]
        }
      ],
      "source": [
        "tuner.search_space_summary()"
      ]
    },
    {
      "cell_type": "code",
      "execution_count": null,
      "id": "UEaYcoqNUGzp",
      "metadata": {
        "colab": {
          "base_uri": "https://localhost:8080/"
        },
        "id": "UEaYcoqNUGzp",
        "outputId": "a6765753-51bd-41e2-8fd0-c43ebe2eee99"
      },
      "outputs": [
        {
          "name": "stdout",
          "output_type": "stream",
          "text": [
            "Trial 5 Complete [00h 04m 09s]\n",
            "val_accuracy: 0.13888888557751974\n",
            "\n",
            "Best val_accuracy So Far: 0.15787037213643393\n",
            "Total elapsed time: 00h 40m 16s\n"
          ]
        }
      ],
      "source": [
        "# Search for the best hyperparameters\n",
        "tuner.search(train_images, train_labels, epochs=5, validation_data=(val_images, val_labels))"
      ]
    },
    {
      "cell_type": "code",
      "execution_count": null,
      "id": "9lDKNcc69dlR",
      "metadata": {
        "colab": {
          "base_uri": "https://localhost:8080/"
        },
        "id": "9lDKNcc69dlR",
        "outputId": "0a39bd7b-17fd-4902-e721-6d6990805b3f"
      },
      "outputs": [
        {
          "name": "stdout",
          "output_type": "stream",
          "text": [
            "Best Hyperparameters:\n",
            "Number of CNN layers: 4\n",
            "Layer 0 parameters not found\n",
            "Layer 1 parameters not found\n",
            "Layer 2 parameters not found\n",
            "Layer 3 parameters not found\n",
            "Units in Dense layer: 64\n",
            "Learning Rate: 0.001\n"
          ]
        }
      ],
      "source": [
        "# Get the best hyperparameters after the search\n",
        "best_hyperparameters = tuner.get_best_hyperparameters(num_trials=1)[0]\n",
        "\n",
        "# Print the best hyperparameters\n",
        "print(\"Best Hyperparameters:\")\n",
        "print(\"Number of CNN layers:\", best_hyperparameters.get('num_layers'))\n",
        "\n",
        "# Loop through each convolutional layer to display its filters and kernel size\n",
        "for i in range(best_hyperparameters.get('num_layers')):\n",
        "    # Define keys\n",
        "    filters_key = f'filters_{i}'\n",
        "    kernel_size_key = f'kernel_size_{i}'\n",
        "\n",
        "    # Check if the key exists\n",
        "    if best_hyperparameters.is_active(filters_key) and best_hyperparameters.is_active(kernel_size_key):\n",
        "        filters = best_hyperparameters.get(filters_key)\n",
        "        kernel_size = best_hyperparameters.get(kernel_size_key)\n",
        "\n",
        "        print(f\"Filters for layer {i}: {filters}\")\n",
        "        print(f\"Kernel Size for layer {i}: {kernel_size}\")\n",
        "    else:\n",
        "        print(f\"Layer {i} parameters not found\")\n",
        "\n",
        "# Print the best Dense layer configuration\n",
        "print(\"Units in Dense layer:\", best_hyperparameters.get('units'))\n",
        "\n",
        "# Print the best learning rate\n",
        "print(\"Learning Rate:\", best_hyperparameters.get('learning_rate'))\n",
        "\n",
        "\n",
        "# print(\"Optimizer:\", best_hyperparameters.get('optimizer'))"
      ]
    },
    {
      "cell_type": "code",
      "execution_count": null,
      "id": "zJWFQsgm9NbH",
      "metadata": {
        "colab": {
          "base_uri": "https://localhost:8080/"
        },
        "id": "zJWFQsgm9NbH",
        "outputId": "5bbf1185-c70b-4fa9-eb8a-cdd2f1831745"
      },
      "outputs": [
        {
          "name": "stderr",
          "output_type": "stream",
          "text": [
            "/usr/local/lib/python3.10/dist-packages/keras/src/saving/saving_lib.py:576: UserWarning: Skipping variable loading for optimizer 'adam', because it has 2 variables whereas the saved optimizer has 26 variables. \n",
            "  saveable.load_own_variables(weights_store.get(inner_path))\n"
          ]
        }
      ],
      "source": [
        "# Get the best model and evaluate it\n",
        "best_model = tuner.get_best_models(num_models=1)[0]"
      ]
    },
    {
      "cell_type": "code",
      "execution_count": null,
      "id": "TVX0AV3OMR3E",
      "metadata": {
        "colab": {
          "base_uri": "https://localhost:8080/"
        },
        "id": "TVX0AV3OMR3E",
        "outputId": "b6ce65f8-1495-49da-ed13-e03a9b61acc7"
      },
      "outputs": [
        {
          "name": "stdout",
          "output_type": "stream",
          "text": [
            "Epoch 1/100\n",
            "\u001b[1m78/78\u001b[0m \u001b[32m━━━━━━━━━━━━━━━━━━━━\u001b[0m\u001b[37m\u001b[0m \u001b[1m7s\u001b[0m 85ms/step - accuracy: 0.7437 - loss: 0.7190 - val_accuracy: 0.1333 - val_loss: 8.3706\n",
            "Epoch 2/100\n",
            "\u001b[1m78/78\u001b[0m \u001b[32m━━━━━━━━━━━━━━━━━━━━\u001b[0m\u001b[37m\u001b[0m \u001b[1m9s\u001b[0m 72ms/step - accuracy: 0.7911 - loss: 0.5534 - val_accuracy: 0.1208 - val_loss: 8.9912\n",
            "Epoch 3/100\n",
            "\u001b[1m78/78\u001b[0m \u001b[32m━━━━━━━━━━━━━━━━━━━━\u001b[0m\u001b[37m\u001b[0m \u001b[1m6s\u001b[0m 74ms/step - accuracy: 0.8067 - loss: 0.6099 - val_accuracy: 0.1056 - val_loss: 9.0691\n",
            "Epoch 4/100\n",
            "\u001b[1m78/78\u001b[0m \u001b[32m━━━━━━━━━━━━━━━━━━━━\u001b[0m\u001b[37m\u001b[0m \u001b[1m6s\u001b[0m 77ms/step - accuracy: 0.8065 - loss: 0.5390 - val_accuracy: 0.1125 - val_loss: 10.7852\n",
            "Epoch 5/100\n",
            "\u001b[1m78/78\u001b[0m \u001b[32m━━━━━━━━━━━━━━━━━━━━\u001b[0m\u001b[37m\u001b[0m \u001b[1m6s\u001b[0m 74ms/step - accuracy: 0.8219 - loss: 0.5015 - val_accuracy: 0.1250 - val_loss: 10.9011\n",
            "Epoch 6/100\n",
            "\u001b[1m78/78\u001b[0m \u001b[32m━━━━━━━━━━━━━━━━━━━━\u001b[0m\u001b[37m\u001b[0m \u001b[1m6s\u001b[0m 77ms/step - accuracy: 0.8308 - loss: 0.4743 - val_accuracy: 0.1167 - val_loss: 13.4060\n",
            "Epoch 7/100\n",
            "\u001b[1m78/78\u001b[0m \u001b[32m━━━━━━━━━━━━━━━━━━━━\u001b[0m\u001b[37m\u001b[0m \u001b[1m10s\u001b[0m 75ms/step - accuracy: 0.8041 - loss: 0.5120 - val_accuracy: 0.1139 - val_loss: 13.7239\n",
            "Epoch 8/100\n",
            "\u001b[1m78/78\u001b[0m \u001b[32m━━━━━━━━━━━━━━━━━━━━\u001b[0m\u001b[37m\u001b[0m \u001b[1m10s\u001b[0m 74ms/step - accuracy: 0.8196 - loss: 0.5263 - val_accuracy: 0.1181 - val_loss: 11.1453\n",
            "Epoch 9/100\n",
            "\u001b[1m78/78\u001b[0m \u001b[32m━━━━━━━━━━━━━━━━━━━━\u001b[0m\u001b[37m\u001b[0m \u001b[1m6s\u001b[0m 73ms/step - accuracy: 0.8440 - loss: 0.4114 - val_accuracy: 0.1153 - val_loss: 13.2996\n",
            "Epoch 10/100\n",
            "\u001b[1m78/78\u001b[0m \u001b[32m━━━━━━━━━━━━━━━━━━━━\u001b[0m\u001b[37m\u001b[0m \u001b[1m10s\u001b[0m 75ms/step - accuracy: 0.8524 - loss: 0.3681 - val_accuracy: 0.1264 - val_loss: 15.5446\n",
            "Epoch 11/100\n",
            "\u001b[1m78/78\u001b[0m \u001b[32m━━━━━━━━━━━━━━━━━━━━\u001b[0m\u001b[37m\u001b[0m \u001b[1m6s\u001b[0m 73ms/step - accuracy: 0.8584 - loss: 0.3599 - val_accuracy: 0.1083 - val_loss: 15.9115\n",
            "Epoch 12/100\n",
            "\u001b[1m78/78\u001b[0m \u001b[32m━━━━━━━━━━━━━━━━━━━━\u001b[0m\u001b[37m\u001b[0m \u001b[1m10s\u001b[0m 74ms/step - accuracy: 0.8646 - loss: 0.3796 - val_accuracy: 0.1181 - val_loss: 15.3101\n",
            "Epoch 13/100\n",
            "\u001b[1m78/78\u001b[0m \u001b[32m━━━━━━━━━━━━━━━━━━━━\u001b[0m\u001b[37m\u001b[0m \u001b[1m6s\u001b[0m 74ms/step - accuracy: 0.8652 - loss: 0.3539 - val_accuracy: 0.1153 - val_loss: 15.6248\n",
            "Epoch 14/100\n",
            "\u001b[1m78/78\u001b[0m \u001b[32m━━━━━━━━━━━━━━━━━━━━\u001b[0m\u001b[37m\u001b[0m \u001b[1m6s\u001b[0m 75ms/step - accuracy: 0.8776 - loss: 0.3084 - val_accuracy: 0.1111 - val_loss: 17.0656\n",
            "Epoch 15/100\n",
            "\u001b[1m78/78\u001b[0m \u001b[32m━━━━━━━━━━━━━━━━━━━━\u001b[0m\u001b[37m\u001b[0m \u001b[1m10s\u001b[0m 74ms/step - accuracy: 0.8597 - loss: 0.3978 - val_accuracy: 0.1236 - val_loss: 17.2062\n",
            "Epoch 16/100\n",
            "\u001b[1m78/78\u001b[0m \u001b[32m━━━━━━━━━━━━━━━━━━━━\u001b[0m\u001b[37m\u001b[0m \u001b[1m6s\u001b[0m 74ms/step - accuracy: 0.8758 - loss: 0.3611 - val_accuracy: 0.1056 - val_loss: 17.7714\n",
            "Epoch 17/100\n",
            "\u001b[1m78/78\u001b[0m \u001b[32m━━━━━━━━━━━━━━━━━━━━\u001b[0m\u001b[37m\u001b[0m \u001b[1m6s\u001b[0m 74ms/step - accuracy: 0.8683 - loss: 0.3429 - val_accuracy: 0.1139 - val_loss: 16.8030\n",
            "Epoch 18/100\n",
            "\u001b[1m78/78\u001b[0m \u001b[32m━━━━━━━━━━━━━━━━━━━━\u001b[0m\u001b[37m\u001b[0m \u001b[1m10s\u001b[0m 75ms/step - accuracy: 0.8685 - loss: 0.4012 - val_accuracy: 0.1153 - val_loss: 17.4857\n",
            "Epoch 19/100\n",
            "\u001b[1m78/78\u001b[0m \u001b[32m━━━━━━━━━━━━━━━━━━━━\u001b[0m\u001b[37m\u001b[0m \u001b[1m6s\u001b[0m 71ms/step - accuracy: 0.8656 - loss: 0.3828 - val_accuracy: 0.1097 - val_loss: 16.4539\n",
            "Epoch 20/100\n",
            "\u001b[1m78/78\u001b[0m \u001b[32m━━━━━━━━━━━━━━━━━━━━\u001b[0m\u001b[37m\u001b[0m \u001b[1m10s\u001b[0m 72ms/step - accuracy: 0.8483 - loss: 0.4496 - val_accuracy: 0.1028 - val_loss: 13.0634\n",
            "Epoch 21/100\n",
            "\u001b[1m78/78\u001b[0m \u001b[32m━━━━━━━━━━━━━━━━━━━━\u001b[0m\u001b[37m\u001b[0m \u001b[1m6s\u001b[0m 75ms/step - accuracy: 0.8645 - loss: 0.3674 - val_accuracy: 0.1194 - val_loss: 18.3362\n",
            "Epoch 22/100\n",
            "\u001b[1m78/78\u001b[0m \u001b[32m━━━━━━━━━━━━━━━━━━━━\u001b[0m\u001b[37m\u001b[0m \u001b[1m6s\u001b[0m 72ms/step - accuracy: 0.8806 - loss: 0.3098 - val_accuracy: 0.1167 - val_loss: 19.7298\n",
            "Epoch 23/100\n",
            "\u001b[1m78/78\u001b[0m \u001b[32m━━━━━━━━━━━━━━━━━━━━\u001b[0m\u001b[37m\u001b[0m \u001b[1m6s\u001b[0m 74ms/step - accuracy: 0.8956 - loss: 0.2700 - val_accuracy: 0.1250 - val_loss: 19.2032\n",
            "Epoch 24/100\n",
            "\u001b[1m78/78\u001b[0m \u001b[32m━━━━━━━━━━━━━━━━━━━━\u001b[0m\u001b[37m\u001b[0m \u001b[1m10s\u001b[0m 72ms/step - accuracy: 0.8906 - loss: 0.2837 - val_accuracy: 0.1181 - val_loss: 22.9885\n",
            "Epoch 25/100\n",
            "\u001b[1m78/78\u001b[0m \u001b[32m━━━━━━━━━━━━━━━━━━━━\u001b[0m\u001b[37m\u001b[0m \u001b[1m6s\u001b[0m 79ms/step - accuracy: 0.8734 - loss: 0.3684 - val_accuracy: 0.1097 - val_loss: 17.5504\n",
            "Epoch 26/100\n",
            "\u001b[1m78/78\u001b[0m \u001b[32m━━━━━━━━━━━━━━━━━━━━\u001b[0m\u001b[37m\u001b[0m \u001b[1m10s\u001b[0m 72ms/step - accuracy: 0.8942 - loss: 0.2616 - val_accuracy: 0.1194 - val_loss: 18.0321\n",
            "Epoch 27/100\n",
            "\u001b[1m78/78\u001b[0m \u001b[32m━━━━━━━━━━━━━━━━━━━━\u001b[0m\u001b[37m\u001b[0m \u001b[1m6s\u001b[0m 75ms/step - accuracy: 0.9026 - loss: 0.2713 - val_accuracy: 0.1208 - val_loss: 18.2821\n",
            "Epoch 28/100\n",
            "\u001b[1m78/78\u001b[0m \u001b[32m━━━━━━━━━━━━━━━━━━━━\u001b[0m\u001b[37m\u001b[0m \u001b[1m6s\u001b[0m 72ms/step - accuracy: 0.8962 - loss: 0.2643 - val_accuracy: 0.1278 - val_loss: 20.2358\n",
            "Epoch 29/100\n",
            "\u001b[1m78/78\u001b[0m \u001b[32m━━━━━━━━━━━━━━━━━━━━\u001b[0m\u001b[37m\u001b[0m \u001b[1m11s\u001b[0m 75ms/step - accuracy: 0.8960 - loss: 0.2590 - val_accuracy: 0.1125 - val_loss: 19.2071\n",
            "Epoch 30/100\n",
            "\u001b[1m78/78\u001b[0m \u001b[32m━━━━━━━━━━━━━━━━━━━━\u001b[0m\u001b[37m\u001b[0m \u001b[1m6s\u001b[0m 72ms/step - accuracy: 0.9058 - loss: 0.2423 - val_accuracy: 0.1306 - val_loss: 20.2209\n",
            "Epoch 31/100\n",
            "\u001b[1m78/78\u001b[0m \u001b[32m━━━━━━━━━━━━━━━━━━━━\u001b[0m\u001b[37m\u001b[0m \u001b[1m10s\u001b[0m 74ms/step - accuracy: 0.8964 - loss: 0.2591 - val_accuracy: 0.1139 - val_loss: 20.6486\n",
            "Epoch 32/100\n",
            "\u001b[1m78/78\u001b[0m \u001b[32m━━━━━━━━━━━━━━━━━━━━\u001b[0m\u001b[37m\u001b[0m \u001b[1m10s\u001b[0m 73ms/step - accuracy: 0.9075 - loss: 0.2500 - val_accuracy: 0.1236 - val_loss: 21.8714\n",
            "Epoch 33/100\n",
            "\u001b[1m78/78\u001b[0m \u001b[32m━━━━━━━━━━━━━━━━━━━━\u001b[0m\u001b[37m\u001b[0m \u001b[1m10s\u001b[0m 74ms/step - accuracy: 0.8942 - loss: 0.2889 - val_accuracy: 0.1250 - val_loss: 23.9941\n",
            "Epoch 34/100\n",
            "\u001b[1m78/78\u001b[0m \u001b[32m━━━━━━━━━━━━━━━━━━━━\u001b[0m\u001b[37m\u001b[0m \u001b[1m6s\u001b[0m 71ms/step - accuracy: 0.8758 - loss: 0.3508 - val_accuracy: 0.1014 - val_loss: 19.9089\n",
            "Epoch 35/100\n",
            "\u001b[1m78/78\u001b[0m \u001b[32m━━━━━━━━━━━━━━━━━━━━\u001b[0m\u001b[37m\u001b[0m \u001b[1m6s\u001b[0m 75ms/step - accuracy: 0.9000 - loss: 0.2530 - val_accuracy: 0.1042 - val_loss: 21.7825\n",
            "Epoch 36/100\n",
            "\u001b[1m78/78\u001b[0m \u001b[32m━━━━━━━━━━━━━━━━━━━━\u001b[0m\u001b[37m\u001b[0m \u001b[1m10s\u001b[0m 75ms/step - accuracy: 0.9012 - loss: 0.2524 - val_accuracy: 0.1083 - val_loss: 24.4732\n",
            "Epoch 37/100\n",
            "\u001b[1m78/78\u001b[0m \u001b[32m━━━━━━━━━━━━━━━━━━━━\u001b[0m\u001b[37m\u001b[0m \u001b[1m6s\u001b[0m 74ms/step - accuracy: 0.9064 - loss: 0.2698 - val_accuracy: 0.1208 - val_loss: 22.5312\n",
            "Epoch 38/100\n",
            "\u001b[1m78/78\u001b[0m \u001b[32m━━━━━━━━━━━━━━━━━━━━\u001b[0m\u001b[37m\u001b[0m \u001b[1m6s\u001b[0m 73ms/step - accuracy: 0.8815 - loss: 0.3060 - val_accuracy: 0.0861 - val_loss: 20.6416\n",
            "Epoch 39/100\n",
            "\u001b[1m78/78\u001b[0m \u001b[32m━━━━━━━━━━━━━━━━━━━━\u001b[0m\u001b[37m\u001b[0m \u001b[1m10s\u001b[0m 72ms/step - accuracy: 0.8657 - loss: 0.4191 - val_accuracy: 0.1069 - val_loss: 25.1979\n",
            "Epoch 40/100\n",
            "\u001b[1m78/78\u001b[0m \u001b[32m━━━━━━━━━━━━━━━━━━━━\u001b[0m\u001b[37m\u001b[0m \u001b[1m6s\u001b[0m 73ms/step - accuracy: 0.8791 - loss: 0.3427 - val_accuracy: 0.1097 - val_loss: 26.0263\n",
            "Epoch 41/100\n",
            "\u001b[1m78/78\u001b[0m \u001b[32m━━━━━━━━━━━━━━━━━━━━\u001b[0m\u001b[37m\u001b[0m \u001b[1m6s\u001b[0m 73ms/step - accuracy: 0.8849 - loss: 0.3833 - val_accuracy: 0.1153 - val_loss: 24.4477\n",
            "Epoch 42/100\n",
            "\u001b[1m78/78\u001b[0m \u001b[32m━━━━━━━━━━━━━━━━━━━━\u001b[0m\u001b[37m\u001b[0m \u001b[1m10s\u001b[0m 74ms/step - accuracy: 0.8837 - loss: 0.4581 - val_accuracy: 0.1083 - val_loss: 22.5806\n",
            "Epoch 43/100\n",
            "\u001b[1m78/78\u001b[0m \u001b[32m━━━━━━━━━━━━━━━━━━━━\u001b[0m\u001b[37m\u001b[0m \u001b[1m6s\u001b[0m 74ms/step - accuracy: 0.8831 - loss: 0.2907 - val_accuracy: 0.1111 - val_loss: 24.4200\n",
            "Epoch 44/100\n",
            "\u001b[1m78/78\u001b[0m \u001b[32m━━━━━━━━━━━━━━━━━━━━\u001b[0m\u001b[37m\u001b[0m \u001b[1m6s\u001b[0m 73ms/step - accuracy: 0.9033 - loss: 0.2680 - val_accuracy: 0.1111 - val_loss: 26.6149\n",
            "Epoch 45/100\n",
            "\u001b[1m78/78\u001b[0m \u001b[32m━━━━━━━━━━━━━━━━━━━━\u001b[0m\u001b[37m\u001b[0m \u001b[1m10s\u001b[0m 74ms/step - accuracy: 0.9009 - loss: 0.2572 - val_accuracy: 0.1014 - val_loss: 23.7346\n",
            "Epoch 46/100\n",
            "\u001b[1m78/78\u001b[0m \u001b[32m━━━━━━━━━━━━━━━━━━━━\u001b[0m\u001b[37m\u001b[0m \u001b[1m10s\u001b[0m 72ms/step - accuracy: 0.9047 - loss: 0.2627 - val_accuracy: 0.1181 - val_loss: 26.5333\n",
            "Epoch 47/100\n",
            "\u001b[1m78/78\u001b[0m \u001b[32m━━━━━━━━━━━━━━━━━━━━\u001b[0m\u001b[37m\u001b[0m \u001b[1m6s\u001b[0m 76ms/step - accuracy: 0.9077 - loss: 0.2629 - val_accuracy: 0.1056 - val_loss: 23.4472\n",
            "Epoch 48/100\n",
            "\u001b[1m78/78\u001b[0m \u001b[32m━━━━━━━━━━━━━━━━━━━━\u001b[0m\u001b[37m\u001b[0m \u001b[1m10s\u001b[0m 73ms/step - accuracy: 0.8969 - loss: 0.2508 - val_accuracy: 0.1125 - val_loss: 27.0159\n",
            "Epoch 49/100\n",
            "\u001b[1m78/78\u001b[0m \u001b[32m━━━━━━━━━━━━━━━━━━━━\u001b[0m\u001b[37m\u001b[0m \u001b[1m6s\u001b[0m 74ms/step - accuracy: 0.9144 - loss: 0.2101 - val_accuracy: 0.1111 - val_loss: 25.8954\n",
            "Epoch 50/100\n",
            "\u001b[1m78/78\u001b[0m \u001b[32m━━━━━━━━━━━━━━━━━━━━\u001b[0m\u001b[37m\u001b[0m \u001b[1m6s\u001b[0m 72ms/step - accuracy: 0.9133 - loss: 0.2099 - val_accuracy: 0.1181 - val_loss: 28.0847\n",
            "Epoch 51/100\n",
            "\u001b[1m78/78\u001b[0m \u001b[32m━━━━━━━━━━━━━━━━━━━━\u001b[0m\u001b[37m\u001b[0m \u001b[1m10s\u001b[0m 75ms/step - accuracy: 0.9196 - loss: 0.2118 - val_accuracy: 0.1139 - val_loss: 24.3850\n",
            "Epoch 52/100\n",
            "\u001b[1m78/78\u001b[0m \u001b[32m━━━━━━━━━━━━━━━━━━━━\u001b[0m\u001b[37m\u001b[0m \u001b[1m6s\u001b[0m 72ms/step - accuracy: 0.9132 - loss: 0.2168 - val_accuracy: 0.1153 - val_loss: 25.3818\n",
            "Epoch 53/100\n",
            "\u001b[1m78/78\u001b[0m \u001b[32m━━━━━━━━━━━━━━━━━━━━\u001b[0m\u001b[37m\u001b[0m \u001b[1m6s\u001b[0m 74ms/step - accuracy: 0.9280 - loss: 0.1873 - val_accuracy: 0.1181 - val_loss: 27.6836\n",
            "Epoch 54/100\n",
            "\u001b[1m78/78\u001b[0m \u001b[32m━━━━━━━━━━━━━━━━━━━━\u001b[0m\u001b[37m\u001b[0m \u001b[1m10s\u001b[0m 76ms/step - accuracy: 0.9238 - loss: 0.2146 - val_accuracy: 0.1139 - val_loss: 32.1033\n",
            "Epoch 55/100\n",
            "\u001b[1m78/78\u001b[0m \u001b[32m━━━━━━━━━━━━━━━━━━━━\u001b[0m\u001b[37m\u001b[0m \u001b[1m6s\u001b[0m 72ms/step - accuracy: 0.9259 - loss: 0.1826 - val_accuracy: 0.1306 - val_loss: 32.3879\n",
            "Epoch 56/100\n",
            "\u001b[1m78/78\u001b[0m \u001b[32m━━━━━━━━━━━━━━━━━━━━\u001b[0m\u001b[37m\u001b[0m \u001b[1m6s\u001b[0m 73ms/step - accuracy: 0.9206 - loss: 0.2102 - val_accuracy: 0.1181 - val_loss: 29.3759\n",
            "Epoch 57/100\n",
            "\u001b[1m78/78\u001b[0m \u001b[32m━━━━━━━━━━━━━━━━━━━━\u001b[0m\u001b[37m\u001b[0m \u001b[1m6s\u001b[0m 73ms/step - accuracy: 0.9077 - loss: 0.2438 - val_accuracy: 0.1042 - val_loss: 32.8868\n",
            "Epoch 58/100\n",
            "\u001b[1m78/78\u001b[0m \u001b[32m━━━━━━━━━━━━━━━━━━━━\u001b[0m\u001b[37m\u001b[0m \u001b[1m10s\u001b[0m 74ms/step - accuracy: 0.9177 - loss: 0.3010 - val_accuracy: 0.0972 - val_loss: 30.5400\n",
            "Epoch 59/100\n",
            "\u001b[1m78/78\u001b[0m \u001b[32m━━━━━━━━━━━━━━━━━━━━\u001b[0m\u001b[37m\u001b[0m \u001b[1m6s\u001b[0m 73ms/step - accuracy: 0.9231 - loss: 0.1996 - val_accuracy: 0.0986 - val_loss: 28.6326\n",
            "Epoch 60/100\n",
            "\u001b[1m78/78\u001b[0m \u001b[32m━━━━━━━━━━━━━━━━━━━━\u001b[0m\u001b[37m\u001b[0m \u001b[1m11s\u001b[0m 78ms/step - accuracy: 0.9241 - loss: 0.1986 - val_accuracy: 0.0986 - val_loss: 27.3310\n",
            "Epoch 61/100\n",
            "\u001b[1m78/78\u001b[0m \u001b[32m━━━━━━━━━━━━━━━━━━━━\u001b[0m\u001b[37m\u001b[0m \u001b[1m6s\u001b[0m 71ms/step - accuracy: 0.8949 - loss: 0.2586 - val_accuracy: 0.1139 - val_loss: 30.3083\n",
            "Epoch 62/100\n",
            "\u001b[1m78/78\u001b[0m \u001b[32m━━━━━━━━━━━━━━━━━━━━\u001b[0m\u001b[37m\u001b[0m \u001b[1m6s\u001b[0m 75ms/step - accuracy: 0.9315 - loss: 0.1642 - val_accuracy: 0.1125 - val_loss: 34.4939\n",
            "Epoch 63/100\n",
            "\u001b[1m78/78\u001b[0m \u001b[32m━━━━━━━━━━━━━━━━━━━━\u001b[0m\u001b[37m\u001b[0m \u001b[1m6s\u001b[0m 73ms/step - accuracy: 0.9309 - loss: 0.2017 - val_accuracy: 0.1139 - val_loss: 36.0387\n",
            "Epoch 64/100\n",
            "\u001b[1m78/78\u001b[0m \u001b[32m━━━━━━━━━━━━━━━━━━━━\u001b[0m\u001b[37m\u001b[0m \u001b[1m11s\u001b[0m 77ms/step - accuracy: 0.9268 - loss: 0.2154 - val_accuracy: 0.1111 - val_loss: 31.3867\n",
            "Epoch 65/100\n",
            "\u001b[1m78/78\u001b[0m \u001b[32m━━━━━━━━━━━━━━━━━━━━\u001b[0m\u001b[37m\u001b[0m \u001b[1m6s\u001b[0m 71ms/step - accuracy: 0.9081 - loss: 0.2517 - val_accuracy: 0.1083 - val_loss: 33.1737\n",
            "Epoch 66/100\n",
            "\u001b[1m78/78\u001b[0m \u001b[32m━━━━━━━━━━━━━━━━━━━━\u001b[0m\u001b[37m\u001b[0m \u001b[1m11s\u001b[0m 79ms/step - accuracy: 0.9155 - loss: 0.2673 - val_accuracy: 0.0931 - val_loss: 35.0899\n",
            "Epoch 67/100\n",
            "\u001b[1m78/78\u001b[0m \u001b[32m━━━━━━━━━━━━━━━━━━━━\u001b[0m\u001b[37m\u001b[0m \u001b[1m6s\u001b[0m 72ms/step - accuracy: 0.9026 - loss: 0.3193 - val_accuracy: 0.1111 - val_loss: 34.2888\n",
            "Epoch 68/100\n",
            "\u001b[1m78/78\u001b[0m \u001b[32m━━━━━━━━━━━━━━━━━━━━\u001b[0m\u001b[37m\u001b[0m \u001b[1m10s\u001b[0m 73ms/step - accuracy: 0.8768 - loss: 0.4401 - val_accuracy: 0.1208 - val_loss: 26.4717\n",
            "Epoch 69/100\n",
            "\u001b[1m78/78\u001b[0m \u001b[32m━━━━━━━━━━━━━━━━━━━━\u001b[0m\u001b[37m\u001b[0m \u001b[1m6s\u001b[0m 73ms/step - accuracy: 0.9060 - loss: 0.2677 - val_accuracy: 0.1056 - val_loss: 33.5378\n",
            "Epoch 70/100\n",
            "\u001b[1m78/78\u001b[0m \u001b[32m━━━━━━━━━━━━━━━━━━━━\u001b[0m\u001b[37m\u001b[0m \u001b[1m11s\u001b[0m 76ms/step - accuracy: 0.9230 - loss: 0.2067 - val_accuracy: 0.1125 - val_loss: 34.1457\n",
            "Epoch 71/100\n",
            "\u001b[1m78/78\u001b[0m \u001b[32m━━━━━━━━━━━━━━━━━━━━\u001b[0m\u001b[37m\u001b[0m \u001b[1m6s\u001b[0m 79ms/step - accuracy: 0.9047 - loss: 0.2531 - val_accuracy: 0.1111 - val_loss: 34.8739\n",
            "Epoch 72/100\n",
            "\u001b[1m78/78\u001b[0m \u001b[32m━━━━━━━━━━━━━━━━━━━━\u001b[0m\u001b[37m\u001b[0m \u001b[1m10s\u001b[0m 72ms/step - accuracy: 0.9099 - loss: 0.2438 - val_accuracy: 0.1111 - val_loss: 34.4198\n",
            "Epoch 73/100\n",
            "\u001b[1m78/78\u001b[0m \u001b[32m━━━━━━━━━━━━━━━━━━━━\u001b[0m\u001b[37m\u001b[0m \u001b[1m6s\u001b[0m 75ms/step - accuracy: 0.9304 - loss: 0.1925 - val_accuracy: 0.0986 - val_loss: 39.3504\n",
            "Epoch 74/100\n",
            "\u001b[1m78/78\u001b[0m \u001b[32m━━━━━━━━━━━━━━━━━━━━\u001b[0m\u001b[37m\u001b[0m \u001b[1m6s\u001b[0m 71ms/step - accuracy: 0.9240 - loss: 0.1970 - val_accuracy: 0.1083 - val_loss: 36.9962\n",
            "Epoch 75/100\n",
            "\u001b[1m78/78\u001b[0m \u001b[32m━━━━━━━━━━━━━━━━━━━━\u001b[0m\u001b[37m\u001b[0m \u001b[1m6s\u001b[0m 74ms/step - accuracy: 0.9105 - loss: 0.2284 - val_accuracy: 0.1139 - val_loss: 36.5384\n",
            "Epoch 76/100\n",
            "\u001b[1m78/78\u001b[0m \u001b[32m━━━━━━━━━━━━━━━━━━━━\u001b[0m\u001b[37m\u001b[0m \u001b[1m6s\u001b[0m 74ms/step - accuracy: 0.9263 - loss: 0.1955 - val_accuracy: 0.1042 - val_loss: 35.4637\n",
            "Epoch 77/100\n",
            "\u001b[1m78/78\u001b[0m \u001b[32m━━━━━━━━━━━━━━━━━━━━\u001b[0m\u001b[37m\u001b[0m \u001b[1m6s\u001b[0m 72ms/step - accuracy: 0.9295 - loss: 0.1814 - val_accuracy: 0.1139 - val_loss: 42.2638\n",
            "Epoch 78/100\n",
            "\u001b[1m78/78\u001b[0m \u001b[32m━━━━━━━━━━━━━━━━━━━━\u001b[0m\u001b[37m\u001b[0m \u001b[1m10s\u001b[0m 71ms/step - accuracy: 0.9294 - loss: 0.1921 - val_accuracy: 0.1028 - val_loss: 38.5012\n",
            "Epoch 79/100\n",
            "\u001b[1m78/78\u001b[0m \u001b[32m━━━━━━━━━━━━━━━━━━━━\u001b[0m\u001b[37m\u001b[0m \u001b[1m6s\u001b[0m 76ms/step - accuracy: 0.8823 - loss: 0.3309 - val_accuracy: 0.1194 - val_loss: 41.6805\n",
            "Epoch 80/100\n",
            "\u001b[1m78/78\u001b[0m \u001b[32m━━━━━━━━━━━━━━━━━━━━\u001b[0m\u001b[37m\u001b[0m \u001b[1m10s\u001b[0m 72ms/step - accuracy: 0.9183 - loss: 0.2496 - val_accuracy: 0.1028 - val_loss: 39.0338\n",
            "Epoch 81/100\n",
            "\u001b[1m78/78\u001b[0m \u001b[32m━━━━━━━━━━━━━━━━━━━━\u001b[0m\u001b[37m\u001b[0m \u001b[1m6s\u001b[0m 74ms/step - accuracy: 0.9214 - loss: 0.2812 - val_accuracy: 0.1014 - val_loss: 39.1091\n",
            "Epoch 82/100\n",
            "\u001b[1m78/78\u001b[0m \u001b[32m━━━━━━━━━━━━━━━━━━━━\u001b[0m\u001b[37m\u001b[0m \u001b[1m6s\u001b[0m 71ms/step - accuracy: 0.9105 - loss: 0.2563 - val_accuracy: 0.1028 - val_loss: 40.4590\n",
            "Epoch 83/100\n",
            "\u001b[1m78/78\u001b[0m \u001b[32m━━━━━━━━━━━━━━━━━━━━\u001b[0m\u001b[37m\u001b[0m \u001b[1m6s\u001b[0m 75ms/step - accuracy: 0.9200 - loss: 0.1999 - val_accuracy: 0.1208 - val_loss: 40.3491\n",
            "Epoch 84/100\n",
            "\u001b[1m78/78\u001b[0m \u001b[32m━━━━━━━━━━━━━━━━━━━━\u001b[0m\u001b[37m\u001b[0m \u001b[1m6s\u001b[0m 72ms/step - accuracy: 0.9290 - loss: 0.1814 - val_accuracy: 0.1111 - val_loss: 38.7786\n",
            "Epoch 85/100\n",
            "\u001b[1m78/78\u001b[0m \u001b[32m━━━━━━━━━━━━━━━━━━━━\u001b[0m\u001b[37m\u001b[0m \u001b[1m6s\u001b[0m 73ms/step - accuracy: 0.9291 - loss: 0.2074 - val_accuracy: 0.1153 - val_loss: 40.9895\n",
            "Epoch 86/100\n",
            "\u001b[1m78/78\u001b[0m \u001b[32m━━━━━━━━━━━━━━━━━━━━\u001b[0m\u001b[37m\u001b[0m \u001b[1m10s\u001b[0m 71ms/step - accuracy: 0.9326 - loss: 0.1887 - val_accuracy: 0.1181 - val_loss: 41.2225\n",
            "Epoch 87/100\n",
            "\u001b[1m78/78\u001b[0m \u001b[32m━━━━━━━━━━━━━━━━━━━━\u001b[0m\u001b[37m\u001b[0m \u001b[1m10s\u001b[0m 71ms/step - accuracy: 0.9192 - loss: 0.2287 - val_accuracy: 0.1069 - val_loss: 39.3850\n",
            "Epoch 88/100\n",
            "\u001b[1m78/78\u001b[0m \u001b[32m━━━━━━━━━━━━━━━━━━━━\u001b[0m\u001b[37m\u001b[0m \u001b[1m10s\u001b[0m 72ms/step - accuracy: 0.9319 - loss: 0.1822 - val_accuracy: 0.1167 - val_loss: 41.2536\n",
            "Epoch 89/100\n",
            "\u001b[1m78/78\u001b[0m \u001b[32m━━━━━━━━━━━━━━━━━━━━\u001b[0m\u001b[37m\u001b[0m \u001b[1m6s\u001b[0m 72ms/step - accuracy: 0.9122 - loss: 0.2239 - val_accuracy: 0.1264 - val_loss: 44.2300\n",
            "Epoch 90/100\n",
            "\u001b[1m78/78\u001b[0m \u001b[32m━━━━━━━━━━━━━━━━━━━━\u001b[0m\u001b[37m\u001b[0m \u001b[1m6s\u001b[0m 75ms/step - accuracy: 0.8978 - loss: 0.3141 - val_accuracy: 0.1222 - val_loss: 38.7900\n",
            "Epoch 91/100\n",
            "\u001b[1m78/78\u001b[0m \u001b[32m━━━━━━━━━━━━━━━━━━━━\u001b[0m\u001b[37m\u001b[0m \u001b[1m10s\u001b[0m 76ms/step - accuracy: 0.9065 - loss: 0.2581 - val_accuracy: 0.1056 - val_loss: 39.1463\n",
            "Epoch 92/100\n",
            "\u001b[1m78/78\u001b[0m \u001b[32m━━━━━━━━━━━━━━━━━━━━\u001b[0m\u001b[37m\u001b[0m \u001b[1m10s\u001b[0m 71ms/step - accuracy: 0.9393 - loss: 0.1716 - val_accuracy: 0.1042 - val_loss: 39.9975\n",
            "Epoch 93/100\n",
            "\u001b[1m78/78\u001b[0m \u001b[32m━━━━━━━━━━━━━━━━━━━━\u001b[0m\u001b[37m\u001b[0m \u001b[1m10s\u001b[0m 74ms/step - accuracy: 0.9362 - loss: 0.1881 - val_accuracy: 0.1028 - val_loss: 42.7820\n",
            "Epoch 94/100\n",
            "\u001b[1m78/78\u001b[0m \u001b[32m━━━━━━━━━━━━━━━━━━━━\u001b[0m\u001b[37m\u001b[0m \u001b[1m6s\u001b[0m 76ms/step - accuracy: 0.9421 - loss: 0.1500 - val_accuracy: 0.1097 - val_loss: 43.4462\n",
            "Epoch 95/100\n",
            "\u001b[1m78/78\u001b[0m \u001b[32m━━━━━━━━━━━━━━━━━━━━\u001b[0m\u001b[37m\u001b[0m \u001b[1m6s\u001b[0m 74ms/step - accuracy: 0.9434 - loss: 0.1484 - val_accuracy: 0.1097 - val_loss: 44.6395\n",
            "Epoch 96/100\n",
            "\u001b[1m78/78\u001b[0m \u001b[32m━━━━━━━━━━━━━━━━━━━━\u001b[0m\u001b[37m\u001b[0m \u001b[1m6s\u001b[0m 74ms/step - accuracy: 0.9259 - loss: 0.1813 - val_accuracy: 0.1264 - val_loss: 45.6071\n",
            "Epoch 97/100\n",
            "\u001b[1m78/78\u001b[0m \u001b[32m━━━━━━━━━━━━━━━━━━━━\u001b[0m\u001b[37m\u001b[0m \u001b[1m10s\u001b[0m 74ms/step - accuracy: 0.9312 - loss: 0.1779 - val_accuracy: 0.1194 - val_loss: 47.4132\n",
            "Epoch 98/100\n",
            "\u001b[1m78/78\u001b[0m \u001b[32m━━━━━━━━━━━━━━━━━━━━\u001b[0m\u001b[37m\u001b[0m \u001b[1m10s\u001b[0m 71ms/step - accuracy: 0.9371 - loss: 0.1593 - val_accuracy: 0.0958 - val_loss: 51.6818\n",
            "Epoch 99/100\n",
            "\u001b[1m78/78\u001b[0m \u001b[32m━━━━━━━━━━━━━━━━━━━━\u001b[0m\u001b[37m\u001b[0m \u001b[1m6s\u001b[0m 75ms/step - accuracy: 0.9425 - loss: 0.1458 - val_accuracy: 0.1056 - val_loss: 53.4920\n",
            "Epoch 100/100\n",
            "\u001b[1m78/78\u001b[0m \u001b[32m━━━━━━━━━━━━━━━━━━━━\u001b[0m\u001b[37m\u001b[0m \u001b[1m6s\u001b[0m 72ms/step - accuracy: 0.9335 - loss: 0.1764 - val_accuracy: 0.1250 - val_loss: 49.5089\n"
          ]
        },
        {
          "data": {
            "text/plain": [
              "<keras.src.callbacks.history.History at 0x7a2b3d762a40>"
            ]
          },
          "execution_count": 18,
          "metadata": {},
          "output_type": "execute_result"
        }
      ],
      "source": [
        "best_model.fit(train_images, train_labels, epochs=100, validation_data=(val_images, val_labels))"
      ]
    },
    {
      "cell_type": "code",
      "execution_count": null,
      "id": "AJ5ilp1_VHpC",
      "metadata": {
        "colab": {
          "base_uri": "https://localhost:8080/"
        },
        "id": "AJ5ilp1_VHpC",
        "outputId": "20ceeb23-4bf7-446c-f3bb-28d2e09bedbb"
      },
      "outputs": [
        {
          "name": "stdout",
          "output_type": "stream",
          "text": [
            "\u001b[1m44/44\u001b[0m \u001b[32m━━━━━━━━━━━━━━━━━━━━\u001b[0m\u001b[37m\u001b[0m \u001b[1m3s\u001b[0m 66ms/step - accuracy: 0.1427 - loss: 37.7013\n",
            "Best Test loss: 45.6452, Best Test accuracy: 0.1279\n"
          ]
        }
      ],
      "source": [
        "# Evaluate the model\n",
        "test_loss, test_accuracy = best_model.evaluate(test_images, test_labels)\n",
        "print(f\"Best Test loss: {test_loss:.4f}, Best Test accuracy: {test_accuracy:.4f}\")"
      ]
    },
    {
      "cell_type": "code",
      "execution_count": null,
      "id": "1UFBKDjA2_N3",
      "metadata": {
        "id": "1UFBKDjA2_N3"
      },
      "outputs": [],
      "source": []
    },
    {
      "cell_type": "code",
      "execution_count": null,
      "id": "NoTNuHF5-GFn",
      "metadata": {
        "id": "NoTNuHF5-GFn"
      },
      "outputs": [],
      "source": []
    },
    {
      "cell_type": "code",
      "execution_count": null,
      "id": "yV_QJ0a--F3e",
      "metadata": {
        "id": "yV_QJ0a--F3e"
      },
      "outputs": [],
      "source": []
    },
    {
      "cell_type": "code",
      "execution_count": null,
      "id": "yeYK3n1E_XQe",
      "metadata": {
        "id": "yeYK3n1E_XQe"
      },
      "outputs": [],
      "source": []
    },
    {
      "cell_type": "code",
      "execution_count": null,
      "id": "gaSEOO4f-F0I",
      "metadata": {
        "id": "gaSEOO4f-F0I"
      },
      "outputs": [],
      "source": [
        "from keras_tuner import Hyperband\n",
        "\n",
        "\n",
        "# Function to build the model with hyperparameters\n",
        "def model_builder(hp):\n",
        "    models = tf.keras.models.Sequential()\n",
        "    models.add(layers.Input(shape=(224, 224, 3)))\n",
        "\n",
        "    # Tune the number of filters\n",
        "    for i in range(hp.Int('num_layers', 1, 5)):  # Number of convolutional layers\n",
        "      filters = hp.Choice('filters' + str(i), values=[32, 64, 128])\n",
        "      kernel_size = hp.Choice('kernel_size', values=[3, 5])\n",
        "      models.add(layers.Conv2D(filters=filters, kernel_size=(3, 3), activation='relu',\n",
        "                        kernel_regularizer=tf.keras.regularizers.l2(0.001)))\n",
        "      models.add(layers.MaxPooling2D(pool_size=(2, 2)))\n",
        "\n",
        "    models.add(layers.Flatten())\n",
        "    models.add(layers.Dense(hp.Int('units', 32, 512, step=32), activation='relu'))\n",
        "    models.add(layers.Dense(7, activation='softmax'))\n",
        "\n",
        "    models.compile(optimizer=tf.keras.optimizers.Adam(learning_rate=hp.Choice('learning_rate', [0.001, 0.0001])),\n",
        "                  loss='categorical_crossentropy',\n",
        "                  metrics=['accuracy'])\n",
        "    return models"
      ]
    },
    {
      "cell_type": "code",
      "execution_count": null,
      "id": "aLulAkYK2_KZ",
      "metadata": {
        "colab": {
          "background_save": true,
          "base_uri": "https://localhost:8080/"
        },
        "id": "aLulAkYK2_KZ",
        "outputId": "3503230f-c7f1-49b1-a7c0-c09df26ed37e"
      },
      "outputs": [
        {
          "name": "stdout",
          "output_type": "stream",
          "text": [
            "Trial 10 Complete [00h 00m 47s]\n",
            "val_accuracy: 0.10277777910232544\n",
            "\n",
            "Best val_accuracy So Far: 0.14305555820465088\n",
            "Total elapsed time: 00h 32m 13s\n"
          ]
        }
      ],
      "source": [
        "# Instantiate the Keras Tuner using Hyperband search\n",
        "tuner = Hyperband(model_builder,\n",
        "                     objective='val_accuracy',\n",
        "                     max_epochs=5,\n",
        "                     factor=3,\n",
        "                     directory='mydir',\n",
        "                     project_name='cnn_tuning')\n",
        "\n",
        "\n",
        "# Search for the best hyperparameter combination\n",
        "tuner.search(train_images, train_labels, epochs=5, validation_data=(val_images, val_labels))"
      ]
    },
    {
      "cell_type": "code",
      "execution_count": null,
      "id": "kPVz2XrXDM61",
      "metadata": {
        "colab": {
          "base_uri": "https://localhost:8080/"
        },
        "id": "kPVz2XrXDM61",
        "outputId": "9b0d9525-104b-40b8-a435-fe6d60a1ef97"
      },
      "outputs": [
        {
          "name": "stdout",
          "output_type": "stream",
          "text": [
            "\n",
            "The hyperparameter search is complete. \n",
            "Optimal number of filters: \n",
            "Optimal number of Kernel Size: 5\n",
            "Optimal number of conv layers: 1\n",
            "Optimal number of dense units: 96\n",
            "Optimal learning rate: 0.001\n",
            "\n"
          ]
        }
      ],
      "source": [
        "# Get the best hyperparameters and model\n",
        "best_hps = tuner.get_best_hyperparameters(num_trials=1)[0]\n",
        "\n",
        "# Create a string for optimal filters for each layer\n",
        "filters_output = \", \".join(\n",
        "    [f\"Layer {i + 1}: {best_hps.get('filters_' + str(i))}\" for i in range(best_hps.get('num_layers'))]\n",
        ")\n",
        "\n",
        "# Print all the optimal hyperparameters in a single statement\n",
        "print(f\"\"\"\n",
        "The hyperparameter search is complete.\n",
        "Optimal number of filters: {filters_output}\n",
        "Optimal kernel size: {best_hps.get('kernel_size')}\n",
        "Optimal number of conv layers: {best_hps.get('num_layers')}\n",
        "Optimal number of dense units: {best_hps.get('units')}\n",
        "Optimal learning rate: {best_hps.get('learning_rate')}\n",
        "\"\"\")\n",
        "\n",
        "# # Get the best hyperparameters and model\n",
        "# best_hps = tuner.get_best_hyperparameters(num_trials=1)[0]\n",
        "\n",
        "# # Print the optimal hyperparameters\n",
        "# print(\"The hyperparameter search is complete.\")\n",
        "\n",
        "# # Print the optimal number of conv layers and their filters and kernel sizes\n",
        "# print(f\"Optimal number of conv layers: {best_hps.get('num_layers')}\")\n",
        "# for i in range(best_hps.get('num_layers')):\n",
        "#     filters = best_hps.get('filters_' + str(i))\n",
        "#     kernel_size = best_hps.get('kernel_size_' + str(i))\n",
        "#     print(f\" Layer {i + 1}: {filters} filters with kernel size {kernel_size}\")\n",
        "\n",
        "# # Print the optimal dense units and learning rate\n",
        "# print(f\"Optimal dense units: {best_hps.get('units')}\")\n",
        "# print(f\"Optimal learning rate: {best_hps.get('learning_rate')}\")"
      ]
    },
    {
      "cell_type": "code",
      "execution_count": null,
      "id": "UEt6wPC_-pbR",
      "metadata": {
        "id": "UEt6wPC_-pbR"
      },
      "outputs": [],
      "source": [
        "# Build the best model with optimal hyperparameters\n",
        "best_model = tuner.hypermodel.build(best_hps)\n",
        "\n",
        "# Train the best model\n",
        "history = best_model.fit(train_images, train_labels,\n",
        "                         epochs=10,\n",
        "                         validation_data=(val_images, val_labels))\n"
      ]
    },
    {
      "cell_type": "code",
      "execution_count": null,
      "id": "NUY90enT2_IE",
      "metadata": {
        "id": "NUY90enT2_IE"
      },
      "outputs": [],
      "source": []
    },
    {
      "cell_type": "code",
      "execution_count": null,
      "id": "KblVNIDT_Vn5",
      "metadata": {
        "id": "KblVNIDT_Vn5"
      },
      "outputs": [],
      "source": []
    },
    {
      "cell_type": "code",
      "execution_count": null,
      "id": "Po2l3Hbk_Vkc",
      "metadata": {
        "id": "Po2l3Hbk_Vkc"
      },
      "outputs": [],
      "source": []
    },
    {
      "cell_type": "code",
      "execution_count": null,
      "id": "ldSipyNU_Vhv",
      "metadata": {
        "id": "ldSipyNU_Vhv"
      },
      "outputs": [],
      "source": []
    },
    {
      "cell_type": "code",
      "execution_count": null,
      "id": "cwSPLd492_FG",
      "metadata": {
        "id": "cwSPLd492_FG"
      },
      "outputs": [],
      "source": []
    },
    {
      "cell_type": "code",
      "execution_count": null,
      "id": "gLUFwBglVIPO",
      "metadata": {
        "id": "gLUFwBglVIPO"
      },
      "outputs": [],
      "source": [
        "## General\n",
        "# import tensorflow as tf\n",
        "# from tensorflow.keras import layers\n",
        "# from keras_tuner import RandomSearch\n",
        "\n",
        "# # Define the model function using HyperParameters from Keras Tuner\n",
        "# def build_model(hp):\n",
        "#     model = tf.keras.models.Sequential()\n",
        "#     filters = hp.Int('filters', min_value=32, max_value=128, step=32)\n",
        "#     kernel_size = hp.Choice('kernel_size', values=[3, 5])\n",
        "#     units = hp.Int('units', min_value=64, max_value=256, step=64)\n",
        "\n",
        "#     model.add(layers.Conv2D(filters=filters, kernel_size=kernel_size, padding='same', activation='relu', input_shape=(224, 224, 3)))\n",
        "#     model.add(layers.MaxPooling2D((2, 2)))\n",
        "#     model.add(layers.Conv2D(filters=filters * 2, kernel_size=kernel_size, padding='same', activation='relu'))\n",
        "#     model.add(layers.MaxPooling2D((2, 2)))\n",
        "#     model.add(layers.Flatten())\n",
        "#     model.add(layers.Dense(units=units, activation='relu'))\n",
        "#     model.add(layers.Dense(7, activation='softmax'))\n",
        "\n",
        "#     optimizer = hp.Choice('optimizer', values=['adam', 'rmsprop'])\n",
        "#     model.compile(optimizer=optimizer, loss='categorical_crossentropy', metrics=['accuracy'])\n",
        "\n",
        "#     return model\n",
        "\n",
        "# # Create a RandomSearch tuner\n",
        "# tuner = RandomSearch(\n",
        "#     build_model,\n",
        "#     objective='val_accuracy',\n",
        "#     max_trials=10,\n",
        "#     executions_per_trial=3,\n",
        "#     directory='random_search',\n",
        "#     project_name='image_classification'\n",
        "# )\n",
        "\n",
        "# # Prepare your data (replace with your actual data)\n",
        "# train_data = train_images, train_labels  # Your training data\n",
        "# val_data = val_images, val_labels    # Your validation data\n",
        "\n",
        "# # Start the hyperparameter search\n",
        "# tuner.search(\n",
        "#     train_data,\n",
        "#     epochs=20,\n",
        "#     validation_data=val_data,\n",
        "#     batch_size=32\n",
        "# )\n",
        "\n",
        "# # Retrieve the best model and hyperparameters\n",
        "# best_model = tuner.get_best_models(num_models=1)[0]\n",
        "# best_hyperparameters = tuner.get_best_hyperparameters(num_trials=1)[0]\n",
        "\n",
        "# print(\"Best Hyperparameters:\")\n",
        "# print(\"Filters:\", best_hyperparameters.get('filters'))\n",
        "# print(\"Kernel Size:\", best_hyperparameters.get('kernel_size'))\n",
        "# print(\"Units:\", best_hyperparameters.get('units'))\n",
        "# print(\"Optimizer:\", best_hyperparameters.get('optimizer'))\n"
      ]
    },
    {
      "cell_type": "markdown",
      "id": "eb49cf12-2be7-4f32-b9ad-78f36f0bc94c",
      "metadata": {
        "id": "eb49cf12-2be7-4f32-b9ad-78f36f0bc94c"
      },
      "source": [
        "###### End."
      ]
    }
  ],
  "metadata": {
    "accelerator": "GPU",
    "colab": {
      "gpuType": "T4",
      "provenance": [],
      "include_colab_link": true
    },
    "kernelspec": {
      "display_name": "Python 3",
      "name": "python3"
    },
    "language_info": {
      "codemirror_mode": {
        "name": "ipython",
        "version": 3
      },
      "file_extension": ".py",
      "mimetype": "text/x-python",
      "name": "python",
      "nbconvert_exporter": "python",
      "pygments_lexer": "ipython3",
      "version": "3.10.13"
    }
  },
  "nbformat": 4,
  "nbformat_minor": 5
}