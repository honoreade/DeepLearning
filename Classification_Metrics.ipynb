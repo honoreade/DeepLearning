{
  "cells": [
    {
      "cell_type": "markdown",
      "metadata": {
        "id": "view-in-github",
        "colab_type": "text"
      },
      "source": [
        "<a href=\"https://colab.research.google.com/github/honoreade/DeepLearning/blob/main/Classification_Metrics.ipynb\" target=\"_parent\"><img src=\"https://colab.research.google.com/assets/colab-badge.svg\" alt=\"Open In Colab\"/></a>"
      ]
    },
    {
      "cell_type": "code",
      "source": [
        "from google.colab import drive\n",
        "drive.mount('/content/drive')"
      ],
      "metadata": {
        "id": "RMui6VAHupu3"
      },
      "execution_count": null,
      "outputs": []
    },
    {
      "cell_type": "code",
      "execution_count": null,
      "metadata": {
        "id": "iNxnUXP-ulEE"
      },
      "outputs": [],
      "source": [
        "import numpy as np\n",
        "from sklearn.model_selection import cross_val_score, train_test_split"
      ]
    },
    {
      "cell_type": "code",
      "execution_count": null,
      "metadata": {
        "colab": {
          "base_uri": "https://localhost:8080/"
        },
        "id": "0n5HAg_hulEG",
        "outputId": "967deb70-45d1-41d0-f1ce-46478b17441b"
      },
      "outputs": [
        {
          "output_type": "stream",
          "name": "stdout",
          "text": [
            "(60000, 784) (60000,)\n",
            "(10000, 784) (10000,)\n"
          ]
        }
      ],
      "source": [
        "# Load the MNIST dataset from the local .npz file\n",
        "data = np.load('/content/mnist.npz')\n",
        "\n",
        "# Extract the training and test data\n",
        "X_train, y_train = data['x_train'], data['y_train']\n",
        "X_test, y_test = data['x_test'], data['y_test']\n",
        "\n",
        "# Reshape the data if necessary (e.g., flatten the images)\n",
        "X_train = X_train.reshape(X_train.shape[0], -1)\n",
        "X_test = X_test.reshape(X_test.shape[0], -1)\n",
        "\n",
        "print(X_train.shape, y_train.shape)\n",
        "print(X_test.shape, y_test.shape)"
      ]
    },
    {
      "cell_type": "code",
      "execution_count": null,
      "metadata": {
        "id": "RYQeGVv5ulEH"
      },
      "outputs": [],
      "source": [
        "from sklearn.neighbors import KNeighborsClassifier\n",
        "Knn_Model = KNeighborsClassifier()\n",
        "Knn_Model.fit(X_train, y_train)\n",
        "y_train_pred = Knn_Model.predict(X_train)"
      ]
    },
    {
      "cell_type": "code",
      "execution_count": null,
      "metadata": {
        "colab": {
          "base_uri": "https://localhost:8080/"
        },
        "id": "AMaY3bOlulEH",
        "outputId": "0d18bf74-1eae-49eb-e06f-9974775bb550"
      },
      "outputs": [
        {
          "output_type": "execute_result",
          "data": {
            "text/plain": [
              "0.9819166666666667"
            ]
          },
          "metadata": {},
          "execution_count": 5
        }
      ],
      "source": [
        "from sklearn.metrics import accuracy_score\n",
        "accuracy_score(y_train, y_train_pred, normalize = True)"
      ]
    },
    {
      "cell_type": "code",
      "execution_count": null,
      "metadata": {
        "colab": {
          "base_uri": "https://localhost:8080/"
        },
        "id": "sdNGI_7VulEI",
        "outputId": "6ac01f34-4d33-471b-f383-1b3c480a137b"
      },
      "outputs": [
        {
          "output_type": "stream",
          "name": "stdout",
          "text": [
            "Average CV Accuracy: 0.97 (+/- 0.00)\n"
          ]
        },
        {
          "output_type": "stream",
          "name": "stderr",
          "text": [
            "<ipython-input-7-9924ac87f9be>:5: RuntimeWarning: invalid value encountered in sqrt\n",
            "  cv_rmse_train = np.sqrt(-cv_scores_train)\n"
          ]
        }
      ],
      "source": [
        "def compute_cross_validation(model, X_train, y_train, cv=5, scoring='accuracy'):\n",
        "\n",
        "    # Perform cross-validation\n",
        "    cv_scores_train = cross_val_score(model, X_train, y_train, cv=cv, scoring=scoring)\n",
        "    cv_rmse_train = np.sqrt(-cv_scores_train)\n",
        "\n",
        "    # Print cross-validation accuracy\n",
        "    print(f'Average CV Accuracy: {cv_scores_train.mean():.2f} (+/- {cv_scores_train.std() * 2:.2f})')\n",
        "\n",
        "    return cv_rmse_train\n",
        "\n",
        "# Perform cross-validation\n",
        "cv_rmse_train = compute_cross_validation(Knn_Model, X_train, y_train)"
      ]
    },
    {
      "cell_type": "code",
      "source": [],
      "metadata": {
        "id": "9b5Jg8uPwBle"
      },
      "execution_count": null,
      "outputs": []
    }
  ],
  "metadata": {
    "kernelspec": {
      "display_name": "ml",
      "language": "python",
      "name": "python3"
    },
    "language_info": {
      "codemirror_mode": {
        "name": "ipython",
        "version": 3
      },
      "file_extension": ".py",
      "mimetype": "text/x-python",
      "name": "python",
      "nbconvert_exporter": "python",
      "pygments_lexer": "ipython3",
      "version": "3.10.13"
    },
    "colab": {
      "provenance": [],
      "include_colab_link": true
    }
  },
  "nbformat": 4,
  "nbformat_minor": 0
}